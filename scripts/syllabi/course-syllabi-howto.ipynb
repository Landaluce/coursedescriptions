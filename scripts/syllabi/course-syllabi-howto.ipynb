{
 "cells": [
  {
   "cell_type": "code",
   "execution_count": 13,
   "metadata": {},
   "outputs": [],
   "source": [
    "import sqlite3\n",
    "import csv"
   ]
  },
  {
   "cell_type": "code",
   "execution_count": 14,
   "metadata": {},
   "outputs": [],
   "source": [
    "db = sqlite3.connect(\"courses.db\")"
   ]
  },
  {
   "cell_type": "code",
   "execution_count": 15,
   "metadata": {},
   "outputs": [],
   "source": [
    "cursor = db.cursor()"
   ]
  },
  {
   "cell_type": "code",
   "execution_count": 36,
   "metadata": {},
   "outputs": [],
   "source": [
    "query = \"\"\"\n",
    "select \"COMP Course Number\", \"COMP Section Number\", \"Faculty Last Name\", Semester, Syllabus \n",
    "from courses where Semester=\"Spring 2020\" order by Semester, \"COMP Course Number\";\n",
    "\"\"\".strip()"
   ]
  },
  {
   "cell_type": "code",
   "execution_count": 42,
   "metadata": {},
   "outputs": [],
   "source": [
    "results = cursor.execute(query)"
   ]
  },
  {
   "cell_type": "code",
   "execution_count": 43,
   "metadata": {},
   "outputs": [
    {
     "name": "stdout",
     "output_type": "stream",
     "text": [
      "('125', '002', 'Nguyen', 'Spring 2020', 'https://drive.google.com/open?id=1O1VYrn57eOYsX491Czfg7HPFK15Emo19')\n",
      "('150', '005', 'Harrington', 'Spring 2020', 'https://drive.google.com/open?id=1aueqKnb7bRF7NP96qHXDqSSX0dN9V8Ix')\n",
      "('150', '006', 'Harrington', 'Spring 2020', 'https://drive.google.com/open?id=1fcuI1basuNHCHpoBjs2gMwr-cZiVq8fq')\n",
      "('150', '004', 'Nguyen', 'Spring 2020', 'https://drive.google.com/open?id=1eGGE7Qaw95DQojvPTeMoWsYr9QVwtCf5')\n",
      "('150', '002', \"O'Sullivan\", 'Spring 2020', 'https://drive.google.com/open?id=1OC-KRjA68SpV0rSA-nk8zHfl2VnHbnBt')\n",
      "('163', '003', 'Irakliotis', 'Spring 2020', 'https://drive.google.com/open?id=1ZkbwN_YpmypN74vnzc9fM0CILpgboePt')\n",
      "('170', '001', 'Yacobellis', 'Spring 2020', 'https://drive.google.com/open?id=1zoEJxKd67jlDRVqUbmyiuMSw_IqEvAlz')\n",
      "('170', '003', 'Yacobellis', 'Spring 2020', 'https://drive.google.com/open?id=1Xl9y5s1N0ClAAYGwHatYmW81-594CELp')\n",
      "('170', '002', 'Chan-Tin', 'Spring 2020', 'https://drive.google.com/open?id=1vkWZ2x6WEnB3OukH1pBmlks17g8xsahe')\n",
      "('170', '005', 'Irakliotis', 'Spring 2020', 'https://drive.google.com/open?id=1RLVU4LLxWfkPpyoZQjnjcdm2fR1-hBFT')\n",
      "('180', '001', 'Irakliotis', 'Spring 2020', 'https://drive.google.com/open?id=1YcPp_vEPPrcqNjPU14xpjLxgaYe42hu6')\n",
      "('264', '002', 'Klingensmith', 'Spring 2020', 'https://drive.google.com/open?id=1X8QMXfdfacYU3v6qLJRTf_0STmpeJd6U')\n",
      "('264', '001', 'Greenberg', 'Spring 2020', 'https://drive.google.com/open?id=1Y3mD8iZQPu29p9BnLyuf8gPDyxJQyWHy')\n",
      "('271', '002', 'Laufer', 'Spring 2020', 'https://drive.google.com/open?id=1O4inBJOCbL81CYMBpOzk3SFi2SafcNEl')\n",
      "('271', '001', 'Sekharan', 'Spring 2020', 'https://drive.google.com/open?id=13F7t2Y6byZv_YXI2_LOFi3E9HOryTK2E')\n",
      "('310', '001', 'Klingensmith', 'Spring 2020', 'https://drive.google.com/open?id=1aeB1pqtJiXIBr-6DqgprIC-uj2pBMjQT')\n",
      "('313', '001', 'Yacobellis', 'Spring 2020', 'https://drive.google.com/open?id=15vGYHZCtKh1z1_WwBrcKpREchbSZkRWy')\n",
      "('317', '001', 'Montaner', 'Spring 2020', 'https://drive.google.com/open?id=1kPIfU07ofbM-IlYMJLG99nExsKSYcWsn')\n",
      "('324', '001', 'Hayward', 'Spring 2020', 'https://drive.google.com/open?id=1nC6isB0bvXhcxbeQ2Lzig2QSyQvVbXSD')\n",
      "('329', '001', 'Dligach', 'Spring 2020', 'https://drive.google.com/open?id=1a6s7o9nlgxVlh8StDVGEh_GVsm-LYpaw')\n",
      "('340', '001', 'Yarrish', 'Spring 2020', 'https://drive.google.com/open?id=10H04ZPelYRxJoFnwrXhqoK1f5KDDdEOO')\n",
      "('341', '001', 'Hayward', 'Spring 2020', 'https://drive.google.com/open?id=1KM3fhWvQA6zXeyGZKod4jTBrmQorqYeP')\n",
      "('348', '001', 'Schmitz', 'Spring 2020', 'https://drive.google.com/open?id=1_JI2Bg5tuHmSjdeR3rg0SSJgwSejDBrm')\n",
      "('348', '002', 'Schmitz', 'Spring 2020', 'https://drive.google.com/open?id=1l6GxB_Yu8Z_k2J5l9N6rIWBj9iCLz_aj')\n",
      "('363', '001', 'Hayward', 'Spring 2020', 'https://drive.google.com/open?id=1_06KK1gdBavbgiZ7l0ShMTJSpNSfHghE')\n",
      "('369', '001', 'DURSTON', 'Spring 2020', 'https://drive.google.com/open?id=1ZI6fvwGWZ0Zzq5FvxmOVuP38Mx6cOEkH')\n",
      "('383', '001', 'Wheeler', 'Spring 2020', 'https://drive.google.com/open?id=1MdVmCmfDNY_KPUf7PWYpBv5siLj3eUCS')\n",
      "('388', '001', 'Chan-Tin', 'Spring 2020', 'https://drive.google.com/open?id=1zSeujv6cCRz_-mTFta-ei0SfCXGMAZh9')\n",
      "('388', '002', 'Greenberg', 'Spring 2020', 'https://drive.google.com/open?id=1Rp_94B4KzAaP7QtArANcF8v7NiHIJFca')\n",
      "('390', '01E', 'Greenberg', 'Spring 2020', 'https://drive.google.com/open?id=1IasH2HEaVGPwj2xhQgTmz2J1h5rrD4fT')\n",
      "('404', '001', 'Bevente', 'Spring 2020', 'https://drive.google.com/open?id=11VMtt66uCdSbY8epRpcxvWqqdfSttxXZ')\n",
      "('404', '002', 'Bevente', 'Spring 2020', 'https://drive.google.com/open?id=1tKGX3DpTDPwDjGWFMQT5eMOpFqonLyBG')\n",
      "('410', '001', 'Klingensmith', 'Spring 2020', 'https://drive.google.com/open?id=1cIa-5jzdDXZq0CtFljFnoi2gjIoIY2J0')\n",
      "('413', '001', 'Yacobellis', 'Spring 2020', 'https://drive.google.com/open?id=1Ipegz2Jb9k5o3HgjGyFG6k2V4jxve2ty')\n",
      "('417', '001', 'Montaner', 'Spring 2020', 'https://drive.google.com/open?id=1GA0SS7HlTIvTSvxxRywVgvTsUBTHZzxX')\n",
      "('424', '001', 'Hayward', 'Spring 2020', 'https://drive.google.com/open?id=1D98oSFeNW9ST90bdToizFeZHkHUdnkth')\n",
      "('440', '001', 'Yarrish', 'Spring 2020', 'https://drive.google.com/open?id=1NMQqNrko85wD71bzDTiFosywaB_AOJaX')\n",
      "('441', '001', 'Hayward', 'Spring 2020', 'https://drive.google.com/open?id=1WXjcKTgYnORj8zcWFoiUZFeAaD9Zin69')\n",
      "('448', '001', 'Schmitz', 'Spring 2020', 'https://drive.google.com/open?id=1AabpV-1niz98qj1ClocBiIouwzEHocvk')\n",
      "('448', '002', 'Schmitz', 'Spring 2020', 'https://drive.google.com/open?id=10TMuqgQiT8dPMaeWjTB9i8QWD7RYTUiB')\n",
      "('460', '001', 'Hayward', 'Spring 2020', 'https://drive.google.com/open?id=1tBtFJSVrcniSfRnVtiA-F1_LvsCjY8a-')\n",
      "('474', '001', 'Stone', 'Spring 2020', 'https://drive.google.com/open?id=1a3kB6btPgN9mZNeGa17nWpAX7KcGtSuz')\n",
      "('483', '001', 'Wheeler', 'Spring 2020', 'https://drive.google.com/open?id=1S8VzXicd7NFkOtRzB5p5KvQaXLBKxIvx')\n",
      "('488', '329', 'Dligach', 'Spring 2020', 'https://drive.google.com/open?id=1O6v5SIuPv8dS3m9hzPnaa4AVAGxzE88I')\n",
      "('488', '001', 'Chan-Tin', 'Spring 2020', 'https://drive.google.com/open?id=17xgW1kqqqM2Pmc4uWgRP7N2otDsj6K9e')\n"
     ]
    }
   ],
   "source": [
    "import csv\n",
    "with open('courses.csv', 'w', newline='') as csvfile:\n",
    "    spamwriter = csv.writer(csvfile, quoting=csv.QUOTE_ALL)\n",
    "    for result in results:\n",
    "        print(result)\n",
    "        result2 = list(result)\n",
    "        (course_no, sec_no, faculty_name, semester, syllabus_url) = result2[0:5]\n",
    "        course_info = \"%s-%s\" % (course_no, sec_no)\n",
    "        annotated_url = \"\"\"`%(course_no)s-%(sec_no)s %(faculty_name)s <%(syllabus_url)s>_\"\"\" % vars()\n",
    "        spamwriter.writerow([course_info, faculty_name, semester, annotated_url])\n"
   ]
  },
  {
   "cell_type": "code",
   "execution_count": 44,
   "metadata": {},
   "outputs": [
    {
     "name": "stdout",
     "output_type": "stream",
     "text": [
      "\"125-002\",\"Nguyen\",\"Spring 2020\",\"`125-002 Nguyen <https://drive.google.com/open?id=1O1VYrn57eOYsX491Czfg7HPFK15Emo19>_\"\n",
      "\"150-005\",\"Harrington\",\"Spring 2020\",\"`150-005 Harrington <https://drive.google.com/open?id=1aueqKnb7bRF7NP96qHXDqSSX0dN9V8Ix>_\"\n",
      "\"150-006\",\"Harrington\",\"Spring 2020\",\"`150-006 Harrington <https://drive.google.com/open?id=1fcuI1basuNHCHpoBjs2gMwr-cZiVq8fq>_\"\n",
      "\"150-004\",\"Nguyen\",\"Spring 2020\",\"`150-004 Nguyen <https://drive.google.com/open?id=1eGGE7Qaw95DQojvPTeMoWsYr9QVwtCf5>_\"\n",
      "\"150-002\",\"O'Sullivan\",\"Spring 2020\",\"`150-002 O'Sullivan <https://drive.google.com/open?id=1OC-KRjA68SpV0rSA-nk8zHfl2VnHbnBt>_\"\n",
      "\"163-003\",\"Irakliotis\",\"Spring 2020\",\"`163-003 Irakliotis <https://drive.google.com/open?id=1ZkbwN_YpmypN74vnzc9fM0CILpgboePt>_\"\n",
      "\"170-001\",\"Yacobellis\",\"Spring 2020\",\"`170-001 Yacobellis <https://drive.google.com/open?id=1zoEJxKd67jlDRVqUbmyiuMSw_IqEvAlz>_\"\n",
      "\"170-003\",\"Yacobellis\",\"Spring 2020\",\"`170-003 Yacobellis <https://drive.google.com/open?id=1Xl9y5s1N0ClAAYGwHatYmW81-594CELp>_\"\n",
      "\"170-002\",\"Chan-Tin\",\"Spring 2020\",\"`170-002 Chan-Tin <https://drive.google.com/open?id=1vkWZ2x6WEnB3OukH1pBmlks17g8xsahe>_\"\n",
      "\"170-005\",\"Irakliotis\",\"Spring 2020\",\"`170-005 Irakliotis <https://drive.google.com/open?id=1RLVU4LLxWfkPpyoZQjnjcdm2fR1-hBFT>_\"\n",
      "\"180-001\",\"Irakliotis\",\"Spring 2020\",\"`180-001 Irakliotis <https://drive.google.com/open?id=1YcPp_vEPPrcqNjPU14xpjLxgaYe42hu6>_\"\n",
      "\"264-002\",\"Klingensmith\",\"Spring 2020\",\"`264-002 Klingensmith <https://drive.google.com/open?id=1X8QMXfdfacYU3v6qLJRTf_0STmpeJd6U>_\"\n",
      "\"264-001\",\"Greenberg\",\"Spring 2020\",\"`264-001 Greenberg <https://drive.google.com/open?id=1Y3mD8iZQPu29p9BnLyuf8gPDyxJQyWHy>_\"\n",
      "\"271-002\",\"Laufer\",\"Spring 2020\",\"`271-002 Laufer <https://drive.google.com/open?id=1O4inBJOCbL81CYMBpOzk3SFi2SafcNEl>_\"\n",
      "\"271-001\",\"Sekharan\",\"Spring 2020\",\"`271-001 Sekharan <https://drive.google.com/open?id=13F7t2Y6byZv_YXI2_LOFi3E9HOryTK2E>_\"\n",
      "\"310-001\",\"Klingensmith\",\"Spring 2020\",\"`310-001 Klingensmith <https://drive.google.com/open?id=1aeB1pqtJiXIBr-6DqgprIC-uj2pBMjQT>_\"\n",
      "\"313-001\",\"Yacobellis\",\"Spring 2020\",\"`313-001 Yacobellis <https://drive.google.com/open?id=15vGYHZCtKh1z1_WwBrcKpREchbSZkRWy>_\"\n",
      "\"317-001\",\"Montaner\",\"Spring 2020\",\"`317-001 Montaner <https://drive.google.com/open?id=1kPIfU07ofbM-IlYMJLG99nExsKSYcWsn>_\"\n",
      "\"324-001\",\"Hayward\",\"Spring 2020\",\"`324-001 Hayward <https://drive.google.com/open?id=1nC6isB0bvXhcxbeQ2Lzig2QSyQvVbXSD>_\"\n",
      "\"329-001\",\"Dligach\",\"Spring 2020\",\"`329-001 Dligach <https://drive.google.com/open?id=1a6s7o9nlgxVlh8StDVGEh_GVsm-LYpaw>_\"\n",
      "\"340-001\",\"Yarrish\",\"Spring 2020\",\"`340-001 Yarrish <https://drive.google.com/open?id=10H04ZPelYRxJoFnwrXhqoK1f5KDDdEOO>_\"\n",
      "\"341-001\",\"Hayward\",\"Spring 2020\",\"`341-001 Hayward <https://drive.google.com/open?id=1KM3fhWvQA6zXeyGZKod4jTBrmQorqYeP>_\"\n",
      "\"348-001\",\"Schmitz\",\"Spring 2020\",\"`348-001 Schmitz <https://drive.google.com/open?id=1_JI2Bg5tuHmSjdeR3rg0SSJgwSejDBrm>_\"\n",
      "\"348-002\",\"Schmitz\",\"Spring 2020\",\"`348-002 Schmitz <https://drive.google.com/open?id=1l6GxB_Yu8Z_k2J5l9N6rIWBj9iCLz_aj>_\"\n",
      "\"363-001\",\"Hayward\",\"Spring 2020\",\"`363-001 Hayward <https://drive.google.com/open?id=1_06KK1gdBavbgiZ7l0ShMTJSpNSfHghE>_\"\n",
      "\"369-001\",\"DURSTON\",\"Spring 2020\",\"`369-001 DURSTON <https://drive.google.com/open?id=1ZI6fvwGWZ0Zzq5FvxmOVuP38Mx6cOEkH>_\"\n",
      "\"383-001\",\"Wheeler\",\"Spring 2020\",\"`383-001 Wheeler <https://drive.google.com/open?id=1MdVmCmfDNY_KPUf7PWYpBv5siLj3eUCS>_\"\n",
      "\"388-001\",\"Chan-Tin\",\"Spring 2020\",\"`388-001 Chan-Tin <https://drive.google.com/open?id=1zSeujv6cCRz_-mTFta-ei0SfCXGMAZh9>_\"\n",
      "\"388-002\",\"Greenberg\",\"Spring 2020\",\"`388-002 Greenberg <https://drive.google.com/open?id=1Rp_94B4KzAaP7QtArANcF8v7NiHIJFca>_\"\n",
      "\"390-01E\",\"Greenberg\",\"Spring 2020\",\"`390-01E Greenberg <https://drive.google.com/open?id=1IasH2HEaVGPwj2xhQgTmz2J1h5rrD4fT>_\"\n",
      "\"404-001\",\"Bevente\",\"Spring 2020\",\"`404-001 Bevente <https://drive.google.com/open?id=11VMtt66uCdSbY8epRpcxvWqqdfSttxXZ>_\"\n",
      "\"404-002\",\"Bevente\",\"Spring 2020\",\"`404-002 Bevente <https://drive.google.com/open?id=1tKGX3DpTDPwDjGWFMQT5eMOpFqonLyBG>_\"\n",
      "\"410-001\",\"Klingensmith\",\"Spring 2020\",\"`410-001 Klingensmith <https://drive.google.com/open?id=1cIa-5jzdDXZq0CtFljFnoi2gjIoIY2J0>_\"\n",
      "\"413-001\",\"Yacobellis\",\"Spring 2020\",\"`413-001 Yacobellis <https://drive.google.com/open?id=1Ipegz2Jb9k5o3HgjGyFG6k2V4jxve2ty>_\"\n",
      "\"417-001\",\"Montaner\",\"Spring 2020\",\"`417-001 Montaner <https://drive.google.com/open?id=1GA0SS7HlTIvTSvxxRywVgvTsUBTHZzxX>_\"\n",
      "\"424-001\",\"Hayward\",\"Spring 2020\",\"`424-001 Hayward <https://drive.google.com/open?id=1D98oSFeNW9ST90bdToizFeZHkHUdnkth>_\"\n",
      "\"440-001\",\"Yarrish\",\"Spring 2020\",\"`440-001 Yarrish <https://drive.google.com/open?id=1NMQqNrko85wD71bzDTiFosywaB_AOJaX>_\"\n",
      "\"441-001\",\"Hayward\",\"Spring 2020\",\"`441-001 Hayward <https://drive.google.com/open?id=1WXjcKTgYnORj8zcWFoiUZFeAaD9Zin69>_\"\n",
      "\"448-001\",\"Schmitz\",\"Spring 2020\",\"`448-001 Schmitz <https://drive.google.com/open?id=1AabpV-1niz98qj1ClocBiIouwzEHocvk>_\"\n",
      "\"448-002\",\"Schmitz\",\"Spring 2020\",\"`448-002 Schmitz <https://drive.google.com/open?id=10TMuqgQiT8dPMaeWjTB9i8QWD7RYTUiB>_\"\n",
      "\"460-001\",\"Hayward\",\"Spring 2020\",\"`460-001 Hayward <https://drive.google.com/open?id=1tBtFJSVrcniSfRnVtiA-F1_LvsCjY8a->_\"\n",
      "\"474-001\",\"Stone\",\"Spring 2020\",\"`474-001 Stone <https://drive.google.com/open?id=1a3kB6btPgN9mZNeGa17nWpAX7KcGtSuz>_\"\n",
      "\"483-001\",\"Wheeler\",\"Spring 2020\",\"`483-001 Wheeler <https://drive.google.com/open?id=1S8VzXicd7NFkOtRzB5p5KvQaXLBKxIvx>_\"\n",
      "\"488-329\",\"Dligach\",\"Spring 2020\",\"`488-329 Dligach <https://drive.google.com/open?id=1O6v5SIuPv8dS3m9hzPnaa4AVAGxzE88I>_\"\n",
      "\"488-001\",\"Chan-Tin\",\"Spring 2020\",\"`488-001 Chan-Tin <https://drive.google.com/open?id=17xgW1kqqqM2Pmc4uWgRP7N2otDsj6K9e>_\"\n",
      "\n"
     ]
    }
   ],
   "source": [
    "with open('courses.csv') as csvfile:\n",
    "    text = csvfile.read()\n",
    "    print(text)"
   ]
  },
  {
   "cell_type": "code",
   "execution_count": null,
   "metadata": {},
   "outputs": [],
   "source": []
  }
 ],
 "metadata": {
  "kernelspec": {
   "display_name": "Python 3",
   "language": "python",
   "name": "python3"
  },
  "language_info": {
   "codemirror_mode": {
    "name": "ipython",
    "version": 3
   },
   "file_extension": ".py",
   "mimetype": "text/x-python",
   "name": "python",
   "nbconvert_exporter": "python",
   "pygments_lexer": "ipython3",
   "version": "3.8.2"
  }
 },
 "nbformat": 4,
 "nbformat_minor": 4
}
